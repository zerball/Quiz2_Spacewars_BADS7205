{
 "cells": [
  {
   "cell_type": "code",
   "execution_count": 1,
   "metadata": {},
   "outputs": [],
   "source": [
    "import pandas as pd\n",
    "import glob\n",
    "import matplotlib.pyplot as plt\n",
    "import seaborn as sns\n",
    "from sklearn.model_selection import train_test_split, cross_val_score\n",
    "from sklearn.preprocessing import StandardScaler, MinMaxScaler\n",
    "from sklearn.cluster import KMeans\n",
    "import numpy as np\n",
    "from sklearn.tree import DecisionTreeClassifier\n",
    "from sklearn.metrics import classification_report, silhouette_score\n",
    "from joblib import dump, load\n",
    "from sklearn.ensemble import RandomForestClassifier, GradientBoostingClassifier\n",
    "from sklearn.decomposition import PCA, TruncatedSVD"
   ]
  },
  {
   "cell_type": "code",
   "execution_count": 5,
   "metadata": {},
   "outputs": [],
   "source": [
    "# df_each = [pd.read_csv(filename, header=None, delimiter=',', names=[f\"A{i}\" for i in range(11)]) for filename in glob.glob(\"./data/*.txt\")]\n",
    "# df = pd.concat(df_each, axis=0)\n",
    "\n",
    "\n",
    "df = pd.read_csv('C:/BADS_NIDA/BADS_7205/Quiz2/train data/train_all.csv')"
   ]
  },
  {
   "cell_type": "code",
   "execution_count": 6,
   "metadata": {},
   "outputs": [
    {
     "data": {
      "text/html": [
       "<div>\n",
       "<style scoped>\n",
       "    .dataframe tbody tr th:only-of-type {\n",
       "        vertical-align: middle;\n",
       "    }\n",
       "\n",
       "    .dataframe tbody tr th {\n",
       "        vertical-align: top;\n",
       "    }\n",
       "\n",
       "    .dataframe thead th {\n",
       "        text-align: right;\n",
       "    }\n",
       "</style>\n",
       "<table border=\"1\" class=\"dataframe\">\n",
       "  <thead>\n",
       "    <tr style=\"text-align: right;\">\n",
       "      <th></th>\n",
       "      <th>A0</th>\n",
       "      <th>A1</th>\n",
       "      <th>A2</th>\n",
       "      <th>A3</th>\n",
       "      <th>A4</th>\n",
       "      <th>A5</th>\n",
       "      <th>A6</th>\n",
       "      <th>A7</th>\n",
       "      <th>A8</th>\n",
       "      <th>A9</th>\n",
       "      <th>A10</th>\n",
       "    </tr>\n",
       "  </thead>\n",
       "  <tbody>\n",
       "    <tr>\n",
       "      <th>0</th>\n",
       "      <td>365.684615</td>\n",
       "      <td>380.192308</td>\n",
       "      <td>22</td>\n",
       "      <td>40</td>\n",
       "      <td>44</td>\n",
       "      <td>4</td>\n",
       "      <td>5</td>\n",
       "      <td>69</td>\n",
       "      <td>61</td>\n",
       "      <td>64</td>\n",
       "      <td>47.0</td>\n",
       "    </tr>\n",
       "    <tr>\n",
       "      <th>1</th>\n",
       "      <td>396.432836</td>\n",
       "      <td>386.828358</td>\n",
       "      <td>25</td>\n",
       "      <td>32</td>\n",
       "      <td>33</td>\n",
       "      <td>1</td>\n",
       "      <td>5</td>\n",
       "      <td>77</td>\n",
       "      <td>66</td>\n",
       "      <td>57</td>\n",
       "      <td>50.0</td>\n",
       "    </tr>\n",
       "    <tr>\n",
       "      <th>2</th>\n",
       "      <td>335.674157</td>\n",
       "      <td>374.764045</td>\n",
       "      <td>26</td>\n",
       "      <td>46</td>\n",
       "      <td>51</td>\n",
       "      <td>5</td>\n",
       "      <td>6</td>\n",
       "      <td>108</td>\n",
       "      <td>88</td>\n",
       "      <td>76</td>\n",
       "      <td>56.0</td>\n",
       "    </tr>\n",
       "    <tr>\n",
       "      <th>3</th>\n",
       "      <td>346.833333</td>\n",
       "      <td>385.871795</td>\n",
       "      <td>27</td>\n",
       "      <td>40</td>\n",
       "      <td>47</td>\n",
       "      <td>7</td>\n",
       "      <td>5</td>\n",
       "      <td>103</td>\n",
       "      <td>71</td>\n",
       "      <td>65</td>\n",
       "      <td>52.0</td>\n",
       "    </tr>\n",
       "    <tr>\n",
       "      <th>4</th>\n",
       "      <td>371.468750</td>\n",
       "      <td>395.756250</td>\n",
       "      <td>26</td>\n",
       "      <td>44</td>\n",
       "      <td>50</td>\n",
       "      <td>6</td>\n",
       "      <td>6</td>\n",
       "      <td>94</td>\n",
       "      <td>63</td>\n",
       "      <td>74</td>\n",
       "      <td>56.0</td>\n",
       "    </tr>\n",
       "  </tbody>\n",
       "</table>\n",
       "</div>"
      ],
      "text/plain": [
       "           A0          A1  A2  A3  A4  A5  A6   A7  A8  A9   A10\n",
       "0  365.684615  380.192308  22  40  44   4   5   69  61  64  47.0\n",
       "1  396.432836  386.828358  25  32  33   1   5   77  66  57  50.0\n",
       "2  335.674157  374.764045  26  46  51   5   6  108  88  76  56.0\n",
       "3  346.833333  385.871795  27  40  47   7   5  103  71  65  52.0\n",
       "4  371.468750  395.756250  26  44  50   6   6   94  63  74  56.0"
      ]
     },
     "execution_count": 6,
     "metadata": {},
     "output_type": "execute_result"
    }
   ],
   "source": [
    "df.head()"
   ]
  },
  {
   "cell_type": "markdown",
   "metadata": {},
   "source": [
    "A0) Position in X axis => position X [1, 2, 3, 2, 1] / 5  \n",
    "A1) Position in Y axis => position Y [200, 150, 130, 170] / 4  \n",
    "A2) Number of coins collected => Total  \n",
    "A3) Number of destroyed enemies => Total  \n",
    "A4) Number of shots => Total  \n",
    "A5) Number of shots without enemies => Total (A4 - A3)  \n",
    "A6) Level reach  \n",
    "A7) key X pressed count  \n",
    "A8) key Y pressed count  \n",
    "A9) Number of enemy created  \n",
    "A10) Number of coin created  "
   ]
  },
  {
   "cell_type": "code",
   "execution_count": 7,
   "metadata": {},
   "outputs": [
    {
     "data": {
      "text/plain": [
       "(261, 11)"
      ]
     },
     "execution_count": 7,
     "metadata": {},
     "output_type": "execute_result"
    }
   ],
   "source": [
    "df.shape"
   ]
  },
  {
   "cell_type": "code",
   "execution_count": 8,
   "metadata": {},
   "outputs": [
    {
     "data": {
      "text/html": [
       "<div>\n",
       "<style scoped>\n",
       "    .dataframe tbody tr th:only-of-type {\n",
       "        vertical-align: middle;\n",
       "    }\n",
       "\n",
       "    .dataframe tbody tr th {\n",
       "        vertical-align: top;\n",
       "    }\n",
       "\n",
       "    .dataframe thead th {\n",
       "        text-align: right;\n",
       "    }\n",
       "</style>\n",
       "<table border=\"1\" class=\"dataframe\">\n",
       "  <thead>\n",
       "    <tr style=\"text-align: right;\">\n",
       "      <th></th>\n",
       "      <th>A0</th>\n",
       "      <th>A1</th>\n",
       "      <th>A2</th>\n",
       "      <th>A3</th>\n",
       "      <th>A4</th>\n",
       "      <th>A5</th>\n",
       "      <th>A6</th>\n",
       "      <th>A7</th>\n",
       "      <th>A8</th>\n",
       "      <th>A9</th>\n",
       "      <th>A10</th>\n",
       "    </tr>\n",
       "  </thead>\n",
       "  <tbody>\n",
       "    <tr>\n",
       "      <th>count</th>\n",
       "      <td>261.000000</td>\n",
       "      <td>261.000000</td>\n",
       "      <td>261.000000</td>\n",
       "      <td>261.000000</td>\n",
       "      <td>261.000000</td>\n",
       "      <td>261.000000</td>\n",
       "      <td>261.000000</td>\n",
       "      <td>261.000000</td>\n",
       "      <td>261.000000</td>\n",
       "      <td>261.000000</td>\n",
       "      <td>261.000000</td>\n",
       "    </tr>\n",
       "    <tr>\n",
       "      <th>mean</th>\n",
       "      <td>369.908421</td>\n",
       "      <td>349.600989</td>\n",
       "      <td>13.137931</td>\n",
       "      <td>41.386973</td>\n",
       "      <td>53.701149</td>\n",
       "      <td>12.314176</td>\n",
       "      <td>3.789272</td>\n",
       "      <td>68.233716</td>\n",
       "      <td>32.762452</td>\n",
       "      <td>60.187739</td>\n",
       "      <td>216.911547</td>\n",
       "    </tr>\n",
       "    <tr>\n",
       "      <th>std</th>\n",
       "      <td>49.891212</td>\n",
       "      <td>72.130792</td>\n",
       "      <td>8.834163</td>\n",
       "      <td>31.252810</td>\n",
       "      <td>39.095873</td>\n",
       "      <td>13.529205</td>\n",
       "      <td>1.733616</td>\n",
       "      <td>44.461684</td>\n",
       "      <td>29.447951</td>\n",
       "      <td>39.000187</td>\n",
       "      <td>2987.130965</td>\n",
       "    </tr>\n",
       "    <tr>\n",
       "      <th>min</th>\n",
       "      <td>214.189189</td>\n",
       "      <td>160.888889</td>\n",
       "      <td>0.000000</td>\n",
       "      <td>0.000000</td>\n",
       "      <td>0.000000</td>\n",
       "      <td>0.000000</td>\n",
       "      <td>1.000000</td>\n",
       "      <td>0.000000</td>\n",
       "      <td>0.000000</td>\n",
       "      <td>5.000000</td>\n",
       "      <td>5.000000</td>\n",
       "    </tr>\n",
       "    <tr>\n",
       "      <th>25%</th>\n",
       "      <td>344.493243</td>\n",
       "      <td>305.750000</td>\n",
       "      <td>6.000000</td>\n",
       "      <td>16.000000</td>\n",
       "      <td>24.000000</td>\n",
       "      <td>4.000000</td>\n",
       "      <td>3.000000</td>\n",
       "      <td>32.000000</td>\n",
       "      <td>9.000000</td>\n",
       "      <td>29.000000</td>\n",
       "      <td>21.000000</td>\n",
       "    </tr>\n",
       "    <tr>\n",
       "      <th>50%</th>\n",
       "      <td>372.464567</td>\n",
       "      <td>353.083333</td>\n",
       "      <td>11.000000</td>\n",
       "      <td>37.000000</td>\n",
       "      <td>47.000000</td>\n",
       "      <td>7.000000</td>\n",
       "      <td>4.000000</td>\n",
       "      <td>67.000000</td>\n",
       "      <td>22.000000</td>\n",
       "      <td>57.000000</td>\n",
       "      <td>31.000000</td>\n",
       "    </tr>\n",
       "    <tr>\n",
       "      <th>75%</th>\n",
       "      <td>400.850000</td>\n",
       "      <td>396.077778</td>\n",
       "      <td>20.000000</td>\n",
       "      <td>64.000000</td>\n",
       "      <td>76.000000</td>\n",
       "      <td>16.000000</td>\n",
       "      <td>5.000000</td>\n",
       "      <td>98.000000</td>\n",
       "      <td>52.000000</td>\n",
       "      <td>88.000000</td>\n",
       "      <td>44.000000</td>\n",
       "    </tr>\n",
       "    <tr>\n",
       "      <th>max</th>\n",
       "      <td>527.869792</td>\n",
       "      <td>520.855000</td>\n",
       "      <td>40.000000</td>\n",
       "      <td>148.000000</td>\n",
       "      <td>212.000000</td>\n",
       "      <td>69.000000</td>\n",
       "      <td>7.000000</td>\n",
       "      <td>215.000000</td>\n",
       "      <td>130.000000</td>\n",
       "      <td>182.000000</td>\n",
       "      <td>48289.913790</td>\n",
       "    </tr>\n",
       "  </tbody>\n",
       "</table>\n",
       "</div>"
      ],
      "text/plain": [
       "               A0          A1          A2          A3          A4          A5  \\\n",
       "count  261.000000  261.000000  261.000000  261.000000  261.000000  261.000000   \n",
       "mean   369.908421  349.600989   13.137931   41.386973   53.701149   12.314176   \n",
       "std     49.891212   72.130792    8.834163   31.252810   39.095873   13.529205   \n",
       "min    214.189189  160.888889    0.000000    0.000000    0.000000    0.000000   \n",
       "25%    344.493243  305.750000    6.000000   16.000000   24.000000    4.000000   \n",
       "50%    372.464567  353.083333   11.000000   37.000000   47.000000    7.000000   \n",
       "75%    400.850000  396.077778   20.000000   64.000000   76.000000   16.000000   \n",
       "max    527.869792  520.855000   40.000000  148.000000  212.000000   69.000000   \n",
       "\n",
       "               A6          A7          A8          A9           A10  \n",
       "count  261.000000  261.000000  261.000000  261.000000    261.000000  \n",
       "mean     3.789272   68.233716   32.762452   60.187739    216.911547  \n",
       "std      1.733616   44.461684   29.447951   39.000187   2987.130965  \n",
       "min      1.000000    0.000000    0.000000    5.000000      5.000000  \n",
       "25%      3.000000   32.000000    9.000000   29.000000     21.000000  \n",
       "50%      4.000000   67.000000   22.000000   57.000000     31.000000  \n",
       "75%      5.000000   98.000000   52.000000   88.000000     44.000000  \n",
       "max      7.000000  215.000000  130.000000  182.000000  48289.913790  "
      ]
     },
     "execution_count": 8,
     "metadata": {},
     "output_type": "execute_result"
    }
   ],
   "source": [
    "df.describe()"
   ]
  },
  {
   "cell_type": "code",
   "execution_count": 9,
   "metadata": {},
   "outputs": [],
   "source": [
    "df = df.fillna(0)"
   ]
  },
  {
   "cell_type": "code",
   "execution_count": 10,
   "metadata": {},
   "outputs": [],
   "source": [
    "df_train = df"
   ]
  },
  {
   "cell_type": "code",
   "execution_count": 11,
   "metadata": {},
   "outputs": [
    {
     "data": {
      "text/plain": [
       "<AxesSubplot:>"
      ]
     },
     "execution_count": 11,
     "metadata": {},
     "output_type": "execute_result"
    },
    {
     "data": {
      "image/png": "[encoded data removed]",
      "text/plain": [
       "<Figure size 1080x504 with 2 Axes>"
      ]
     },
     "metadata": {
      "needs_background": "light"
     },
     "output_type": "display_data"
    }
   ],
   "source": [
    "# correlation between feature\n",
    "fig, ax = plt.subplots(figsize=(15,7))\n",
    "sns.heatmap(df_train.corr(),cmap='viridis', annot=True)"
   ]
  },
  {
   "cell_type": "code",
   "execution_count": 12,
   "metadata": {},
   "outputs": [
    {
     "name": "stderr",
     "output_type": "stream",
     "text": [
      "<ipython-input-12-ee4772996e2a>:7: MatplotlibDeprecationWarning: Passing non-integers as three-element position specification is deprecated since 3.3 and will be removed two minor releases later.\n",
      "  plt.subplot(number_of_rows + 1,number_of_columns,i+1)\n",
      "C:\\Users\\Peeranut Chuasuai\\.conda\\lib\\site-packages\\seaborn\\_decorators.py:36: FutureWarning: Pass the following variable as a keyword arg: x. From version 0.12, the only valid positional argument will be `data`, and passing other arguments without an explicit keyword will result in an error or misinterpretation.\n",
      "  warnings.warn(\n",
      "C:\\Users\\Peeranut Chuasuai\\.conda\\lib\\site-packages\\seaborn\\_core.py:1303: UserWarning: Vertical orientation ignored with only `x` specified.\n",
      "  warnings.warn(single_var_warning.format(\"Vertical\", \"x\"))\n",
      "<ipython-input-12-ee4772996e2a>:7: MatplotlibDeprecationWarning: Passing non-integers as three-element position specification is deprecated since 3.3 and will be removed two minor releases later.\n",
      "  plt.subplot(number_of_rows + 1,number_of_columns,i+1)\n",
      "C:\\Users\\Peeranut Chuasuai\\.conda\\lib\\site-packages\\seaborn\\_decorators.py:36: FutureWarning: Pass the following variable as a keyword arg: x. From version 0.12, the only valid positional argument will be `data`, and passing other arguments without an explicit keyword will result in an error or misinterpretation.\n",
      "  warnings.warn(\n",
      "C:\\Users\\Peeranut Chuasuai\\.conda\\lib\\site-packages\\seaborn\\_core.py:1303: UserWarning: Vertical orientation ignored with only `x` specified.\n",
      "  warnings.warn(single_var_warning.format(\"Vertical\", \"x\"))\n",
      "<ipython-input-12-ee4772996e2a>:7: MatplotlibDeprecationWarning: Passing non-integers as three-element position specification is deprecated since 3.3 and will be removed two minor releases later.\n",
      "  plt.subplot(number_of_rows + 1,number_of_columns,i+1)\n",
      "C:\\Users\\Peeranut Chuasuai\\.conda\\lib\\site-packages\\seaborn\\_decorators.py:36: FutureWarning: Pass the following variable as a keyword arg: x. From version 0.12, the only valid positional argument will be `data`, and passing other arguments without an explicit keyword will result in an error or misinterpretation.\n",
      "  warnings.warn(\n",
      "C:\\Users\\Peeranut Chuasuai\\.conda\\lib\\site-packages\\seaborn\\_core.py:1303: UserWarning: Vertical orientation ignored with only `x` specified.\n",
      "  warnings.warn(single_var_warning.format(\"Vertical\", \"x\"))\n",
      "<ipython-input-12-ee4772996e2a>:7: MatplotlibDeprecationWarning: Passing non-integers as three-element position specification is deprecated since 3.3 and will be removed two minor releases later.\n",
      "  plt.subplot(number_of_rows + 1,number_of_columns,i+1)\n",
      "C:\\Users\\Peeranut Chuasuai\\.conda\\lib\\site-packages\\seaborn\\_decorators.py:36: FutureWarning: Pass the following variable as a keyword arg: x. From version 0.12, the only valid positional argument will be `data`, and passing other arguments without an explicit keyword will result in an error or misinterpretation.\n",
      "  warnings.warn(\n",
      "C:\\Users\\Peeranut Chuasuai\\.conda\\lib\\site-packages\\seaborn\\_core.py:1303: UserWarning: Vertical orientation ignored with only `x` specified.\n",
      "  warnings.warn(single_var_warning.format(\"Vertical\", \"x\"))\n",
      "<ipython-input-12-ee4772996e2a>:7: MatplotlibDeprecationWarning: Passing non-integers as three-element position specification is deprecated since 3.3 and will be removed two minor releases later.\n",
      "  plt.subplot(number_of_rows + 1,number_of_columns,i+1)\n",
      "C:\\Users\\Peeranut Chuasuai\\.conda\\lib\\site-packages\\seaborn\\_decorators.py:36: FutureWarning: Pass the following variable as a keyword arg: x. From version 0.12, the only valid positional argument will be `data`, and passing other arguments without an explicit keyword will result in an error or misinterpretation.\n",
      "  warnings.warn(\n",
      "C:\\Users\\Peeranut Chuasuai\\.conda\\lib\\site-packages\\seaborn\\_core.py:1303: UserWarning: Vertical orientation ignored with only `x` specified.\n",
      "  warnings.warn(single_var_warning.format(\"Vertical\", \"x\"))\n",
      "<ipython-input-12-ee4772996e2a>:7: MatplotlibDeprecationWarning: Passing non-integers as three-element position specification is deprecated since 3.3 and will be removed two minor releases later.\n",
      "  plt.subplot(number_of_rows + 1,number_of_columns,i+1)\n",
      "C:\\Users\\Peeranut Chuasuai\\.conda\\lib\\site-packages\\seaborn\\_decorators.py:36: FutureWarning: Pass the following variable as a keyword arg: x. From version 0.12, the only valid positional argument will be `data`, and passing other arguments without an explicit keyword will result in an error or misinterpretation.\n",
      "  warnings.warn(\n",
      "C:\\Users\\Peeranut Chuasuai\\.conda\\lib\\site-packages\\seaborn\\_core.py:1303: UserWarning: Vertical orientation ignored with only `x` specified.\n",
      "  warnings.warn(single_var_warning.format(\"Vertical\", \"x\"))\n",
      "<ipython-input-12-ee4772996e2a>:7: MatplotlibDeprecationWarning: Passing non-integers as three-element position specification is deprecated since 3.3 and will be removed two minor releases later.\n",
      "  plt.subplot(number_of_rows + 1,number_of_columns,i+1)\n",
      "C:\\Users\\Peeranut Chuasuai\\.conda\\lib\\site-packages\\seaborn\\_decorators.py:36: FutureWarning: Pass the following variable as a keyword arg: x. From version 0.12, the only valid positional argument will be `data`, and passing other arguments without an explicit keyword will result in an error or misinterpretation.\n",
      "  warnings.warn(\n",
      "C:\\Users\\Peeranut Chuasuai\\.conda\\lib\\site-packages\\seaborn\\_core.py:1303: UserWarning: Vertical orientation ignored with only `x` specified.\n",
      "  warnings.warn(single_var_warning.format(\"Vertical\", \"x\"))\n",
      "<ipython-input-12-ee4772996e2a>:7: MatplotlibDeprecationWarning: Passing non-integers as three-element position specification is deprecated since 3.3 and will be removed two minor releases later.\n",
      "  plt.subplot(number_of_rows + 1,number_of_columns,i+1)\n",
      "C:\\Users\\Peeranut Chuasuai\\.conda\\lib\\site-packages\\seaborn\\_decorators.py:36: FutureWarning: Pass the following variable as a keyword arg: x. From version 0.12, the only valid positional argument will be `data`, and passing other arguments without an explicit keyword will result in an error or misinterpretation.\n",
      "  warnings.warn(\n",
      "C:\\Users\\Peeranut Chuasuai\\.conda\\lib\\site-packages\\seaborn\\_core.py:1303: UserWarning: Vertical orientation ignored with only `x` specified.\n",
      "  warnings.warn(single_var_warning.format(\"Vertical\", \"x\"))\n",
      "<ipython-input-12-ee4772996e2a>:7: MatplotlibDeprecationWarning: Passing non-integers as three-element position specification is deprecated since 3.3 and will be removed two minor releases later.\n",
      "  plt.subplot(number_of_rows + 1,number_of_columns,i+1)\n",
      "C:\\Users\\Peeranut Chuasuai\\.conda\\lib\\site-packages\\seaborn\\_decorators.py:36: FutureWarning: Pass the following variable as a keyword arg: x. From version 0.12, the only valid positional argument will be `data`, and passing other arguments without an explicit keyword will result in an error or misinterpretation.\n",
      "  warnings.warn(\n",
      "C:\\Users\\Peeranut Chuasuai\\.conda\\lib\\site-packages\\seaborn\\_core.py:1303: UserWarning: Vertical orientation ignored with only `x` specified.\n",
      "  warnings.warn(single_var_warning.format(\"Vertical\", \"x\"))\n",
      "<ipython-input-12-ee4772996e2a>:7: MatplotlibDeprecationWarning: Passing non-integers as three-element position specification is deprecated since 3.3 and will be removed two minor releases later.\n",
      "  plt.subplot(number_of_rows + 1,number_of_columns,i+1)\n",
      "C:\\Users\\Peeranut Chuasuai\\.conda\\lib\\site-packages\\seaborn\\_decorators.py:36: FutureWarning: Pass the following variable as a keyword arg: x. From version 0.12, the only valid positional argument will be `data`, and passing other arguments without an explicit keyword will result in an error or misinterpretation.\n",
      "  warnings.warn(\n",
      "C:\\Users\\Peeranut Chuasuai\\.conda\\lib\\site-packages\\seaborn\\_core.py:1303: UserWarning: Vertical orientation ignored with only `x` specified.\n",
      "  warnings.warn(single_var_warning.format(\"Vertical\", \"x\"))\n",
      "<ipython-input-12-ee4772996e2a>:7: MatplotlibDeprecationWarning: Passing non-integers as three-element position specification is deprecated since 3.3 and will be removed two minor releases later.\n",
      "  plt.subplot(number_of_rows + 1,number_of_columns,i+1)\n",
      "C:\\Users\\Peeranut Chuasuai\\.conda\\lib\\site-packages\\seaborn\\_decorators.py:36: FutureWarning: Pass the following variable as a keyword arg: x. From version 0.12, the only valid positional argument will be `data`, and passing other arguments without an explicit keyword will result in an error or misinterpretation.\n",
      "  warnings.warn(\n",
      "C:\\Users\\Peeranut Chuasuai\\.conda\\lib\\site-packages\\seaborn\\_core.py:1303: UserWarning: Vertical orientation ignored with only `x` specified.\n",
      "  warnings.warn(single_var_warning.format(\"Vertical\", \"x\"))\n"
     ]
    },
    {
     "data": {
      "image/png": "[encoded data removed]",
      "text/plain": [
       "<Figure size 864x3930 with 11 Axes>"
      ]
     },
     "metadata": {
      "needs_background": "light"
     },
     "output_type": "display_data"
    }
   ],
   "source": [
    "# identify outlier in given feature\n",
    "l = df_train.columns.values\n",
    "number_of_columns=12\n",
    "number_of_rows = len(l)-1/number_of_columns\n",
    "plt.figure(figsize=(number_of_columns,5*number_of_rows))\n",
    "for i in range(0,len(l)):\n",
    "    plt.subplot(number_of_rows + 1,number_of_columns,i+1)\n",
    "    sns.set_style('whitegrid')\n",
    "    sns.boxplot(df_train[l[i]],color='green',orient='v')\n",
    "    plt.tight_layout()"
   ]
  },
  {
   "cell_type": "code",
   "execution_count": 13,
   "metadata": {},
   "outputs": [
    {
     "name": "stderr",
     "output_type": "stream",
     "text": [
      "<ipython-input-13-0fa02babc821>:4: MatplotlibDeprecationWarning: Passing non-integers as three-element position specification is deprecated since 3.3 and will be removed two minor releases later.\n",
      "  plt.subplot(number_of_rows + 1, number_of_columns, i+1)\n",
      "C:\\Users\\Peeranut Chuasuai\\.conda\\lib\\site-packages\\seaborn\\distributions.py:2551: FutureWarning: `distplot` is a deprecated function and will be removed in a future version. Please adapt your code to use either `displot` (a figure-level function with similar flexibility) or `histplot` (an axes-level function for histograms).\n",
      "  warnings.warn(msg, FutureWarning)\n",
      "<ipython-input-13-0fa02babc821>:4: MatplotlibDeprecationWarning: Passing non-integers as three-element position specification is deprecated since 3.3 and will be removed two minor releases later.\n",
      "  plt.subplot(number_of_rows + 1, number_of_columns, i+1)\n",
      "C:\\Users\\Peeranut Chuasuai\\.conda\\lib\\site-packages\\seaborn\\distributions.py:2551: FutureWarning: `distplot` is a deprecated function and will be removed in a future version. Please adapt your code to use either `displot` (a figure-level function with similar flexibility) or `histplot` (an axes-level function for histograms).\n",
      "  warnings.warn(msg, FutureWarning)\n",
      "<ipython-input-13-0fa02babc821>:4: MatplotlibDeprecationWarning: Passing non-integers as three-element position specification is deprecated since 3.3 and will be removed two minor releases later.\n",
      "  plt.subplot(number_of_rows + 1, number_of_columns, i+1)\n",
      "C:\\Users\\Peeranut Chuasuai\\.conda\\lib\\site-packages\\seaborn\\distributions.py:2551: FutureWarning: `distplot` is a deprecated function and will be removed in a future version. Please adapt your code to use either `displot` (a figure-level function with similar flexibility) or `histplot` (an axes-level function for histograms).\n",
      "  warnings.warn(msg, FutureWarning)\n",
      "<ipython-input-13-0fa02babc821>:4: MatplotlibDeprecationWarning: Passing non-integers as three-element position specification is deprecated since 3.3 and will be removed two minor releases later.\n",
      "  plt.subplot(number_of_rows + 1, number_of_columns, i+1)\n",
      "C:\\Users\\Peeranut Chuasuai\\.conda\\lib\\site-packages\\seaborn\\distributions.py:2551: FutureWarning: `distplot` is a deprecated function and will be removed in a future version. Please adapt your code to use either `displot` (a figure-level function with similar flexibility) or `histplot` (an axes-level function for histograms).\n",
      "  warnings.warn(msg, FutureWarning)\n",
      "<ipython-input-13-0fa02babc821>:4: MatplotlibDeprecationWarning: Passing non-integers as three-element position specification is deprecated since 3.3 and will be removed two minor releases later.\n",
      "  plt.subplot(number_of_rows + 1, number_of_columns, i+1)\n",
      "C:\\Users\\Peeranut Chuasuai\\.conda\\lib\\site-packages\\seaborn\\distributions.py:2551: FutureWarning: `distplot` is a deprecated function and will be removed in a future version. Please adapt your code to use either `displot` (a figure-level function with similar flexibility) or `histplot` (an axes-level function for histograms).\n",
      "  warnings.warn(msg, FutureWarning)\n",
      "<ipython-input-13-0fa02babc821>:4: MatplotlibDeprecationWarning: Passing non-integers as three-element position specification is deprecated since 3.3 and will be removed two minor releases later.\n",
      "  plt.subplot(number_of_rows + 1, number_of_columns, i+1)\n",
      "C:\\Users\\Peeranut Chuasuai\\.conda\\lib\\site-packages\\seaborn\\distributions.py:2551: FutureWarning: `distplot` is a deprecated function and will be removed in a future version. Please adapt your code to use either `displot` (a figure-level function with similar flexibility) or `histplot` (an axes-level function for histograms).\n",
      "  warnings.warn(msg, FutureWarning)\n",
      "<ipython-input-13-0fa02babc821>:4: MatplotlibDeprecationWarning: Passing non-integers as three-element position specification is deprecated since 3.3 and will be removed two minor releases later.\n",
      "  plt.subplot(number_of_rows + 1, number_of_columns, i+1)\n",
      "C:\\Users\\Peeranut Chuasuai\\.conda\\lib\\site-packages\\seaborn\\distributions.py:2551: FutureWarning: `distplot` is a deprecated function and will be removed in a future version. Please adapt your code to use either `displot` (a figure-level function with similar flexibility) or `histplot` (an axes-level function for histograms).\n",
      "  warnings.warn(msg, FutureWarning)\n",
      "<ipython-input-13-0fa02babc821>:4: MatplotlibDeprecationWarning: Passing non-integers as three-element position specification is deprecated since 3.3 and will be removed two minor releases later.\n",
      "  plt.subplot(number_of_rows + 1, number_of_columns, i+1)\n",
      "C:\\Users\\Peeranut Chuasuai\\.conda\\lib\\site-packages\\seaborn\\distributions.py:2551: FutureWarning: `distplot` is a deprecated function and will be removed in a future version. Please adapt your code to use either `displot` (a figure-level function with similar flexibility) or `histplot` (an axes-level function for histograms).\n",
      "  warnings.warn(msg, FutureWarning)\n",
      "<ipython-input-13-0fa02babc821>:4: MatplotlibDeprecationWarning: Passing non-integers as three-element position specification is deprecated since 3.3 and will be removed two minor releases later.\n",
      "  plt.subplot(number_of_rows + 1, number_of_columns, i+1)\n",
      "C:\\Users\\Peeranut Chuasuai\\.conda\\lib\\site-packages\\seaborn\\distributions.py:2551: FutureWarning: `distplot` is a deprecated function and will be removed in a future version. Please adapt your code to use either `displot` (a figure-level function with similar flexibility) or `histplot` (an axes-level function for histograms).\n",
      "  warnings.warn(msg, FutureWarning)\n",
      "<ipython-input-13-0fa02babc821>:4: MatplotlibDeprecationWarning: Passing non-integers as three-element position specification is deprecated since 3.3 and will be removed two minor releases later.\n",
      "  plt.subplot(number_of_rows + 1, number_of_columns, i+1)\n",
      "C:\\Users\\Peeranut Chuasuai\\.conda\\lib\\site-packages\\seaborn\\distributions.py:2551: FutureWarning: `distplot` is a deprecated function and will be removed in a future version. Please adapt your code to use either `displot` (a figure-level function with similar flexibility) or `histplot` (an axes-level function for histograms).\n",
      "  warnings.warn(msg, FutureWarning)\n",
      "<ipython-input-13-0fa02babc821>:4: MatplotlibDeprecationWarning: Passing non-integers as three-element position specification is deprecated since 3.3 and will be removed two minor releases later.\n",
      "  plt.subplot(number_of_rows + 1, number_of_columns, i+1)\n",
      "C:\\Users\\Peeranut Chuasuai\\.conda\\lib\\site-packages\\seaborn\\distributions.py:2551: FutureWarning: `distplot` is a deprecated function and will be removed in a future version. Please adapt your code to use either `displot` (a figure-level function with similar flexibility) or `histplot` (an axes-level function for histograms).\n",
      "  warnings.warn(msg, FutureWarning)\n"
     ]
    },
    {
     "data": {
      "image/png": "[encoded data removed]",
      "text/plain": [
       "<Figure size 1728x3930 with 11 Axes>"
      ]
     },
     "metadata": {},
     "output_type": "display_data"
    }
   ],
   "source": [
    "# identidy distribution in each featur\n",
    "plt.figure(figsize=(2*number_of_columns, 5*number_of_rows))\n",
    "for i in range(0,len(l)):\n",
    "    plt.subplot(number_of_rows + 1, number_of_columns, i+1)\n",
    "    sns.distplot(df[l[i]], kde=True) "
   ]
  },
  {
   "cell_type": "code",
   "execution_count": 14,
   "metadata": {},
   "outputs": [],
   "source": [
    "scaler = StandardScaler()"
   ]
  },
  {
   "cell_type": "code",
   "execution_count": 15,
   "metadata": {},
   "outputs": [],
   "source": [
    "scaller_train = scaler.fit_transform(df_train)"
   ]
  },
  {
   "cell_type": "code",
   "execution_count": 16,
   "metadata": {},
   "outputs": [
    {
     "data": {
      "text/plain": [
       "array([[-0.08482297,  0.42492382,  1.00508614, ...,  0.96073913,\n",
       "         0.0979376 , -0.05699047],\n",
       "       [ 0.53266644,  0.51710082,  1.34532931, ...,  1.13085644,\n",
       "        -0.08189355, -0.05598423],\n",
       "       [-0.68749654,  0.34952341,  1.4587437 , ...,  1.87937259,\n",
       "         0.40621957, -0.05397175],\n",
       "       ...,\n",
       "       [ 0.36898142, -0.9429185 ,  0.43801419, ...,  0.68855144,\n",
       "        -0.10758372, -0.06202165],\n",
       "       [-0.03832514, -0.36602419, -1.49003043, ..., -1.08066857,\n",
       "        -1.41778211, -0.07107779],\n",
       "       [-0.5479089 , -0.60910514, -1.49003043, ..., -1.08066857,\n",
       "        -1.41778211, -0.07107779]])"
      ]
     },
     "execution_count": 16,
     "metadata": {},
     "output_type": "execute_result"
    }
   ],
   "source": [
    "scaller_train"
   ]
  },
  {
   "cell_type": "markdown",
   "metadata": {},
   "source": [
    "Train K-mean and apply 4 cluster"
   ]
  },
  {
   "cell_type": "code",
   "execution_count": 17,
   "metadata": {},
   "outputs": [
    {
     "data": {
      "text/plain": [
       "array([0, 0, 0, 0, 0, 0, 0, 0, 0, 0, 0, 0, 0, 2, 1, 0, 2, 0, 2, 1, 0, 0,\n",
       "       2, 1, 0, 2, 2, 0, 0, 0, 1, 0, 0, 2, 2, 0, 0, 0, 2, 0, 0, 2, 0, 1,\n",
       "       0, 2, 2, 1, 3, 1, 1, 1, 1, 0, 1, 0, 0, 0, 0, 1, 1, 1, 0, 0, 0, 0,\n",
       "       0, 1, 0, 0, 2, 1, 0, 1, 0, 2, 2, 1, 1, 0, 0, 0, 0, 0, 1, 1, 0, 2,\n",
       "       1, 0, 0, 1, 2, 1, 0, 2, 1, 1, 0, 0, 0, 0, 0, 0, 0, 2, 0, 0, 0, 0,\n",
       "       0, 0, 0, 0, 0, 0, 0, 1, 0, 2, 1, 2, 2, 2, 2, 2, 0, 1, 0, 1, 0, 2,\n",
       "       1, 0, 0, 0, 0, 1, 1, 1, 0, 2, 1, 0, 0, 0, 0, 0, 2, 0, 0, 1, 1, 0,\n",
       "       0, 0, 0, 1, 0, 0, 0, 0, 1, 1, 2, 0, 2, 2, 0, 2, 1, 0, 1, 2, 0, 0,\n",
       "       2, 2, 0, 0, 1, 2, 1, 0, 2, 0, 0, 1, 2, 1, 0, 0, 0, 0, 1, 1, 0, 1,\n",
       "       0, 1, 2, 0, 0, 2, 2, 1, 2, 0, 2, 2, 2, 1, 1, 1, 0, 1, 2, 1, 1, 2,\n",
       "       2, 1, 2, 2, 0, 1, 0, 1, 2, 1, 2, 1, 1, 2, 0, 1, 2, 2, 1, 1, 1, 1,\n",
       "       1, 0, 1, 1, 2, 2, 2, 1, 1, 0, 1, 0, 0, 1, 1, 1, 0, 1, 1])"
      ]
     },
     "execution_count": 17,
     "metadata": {},
     "output_type": "execute_result"
    }
   ],
   "source": [
    "kmeans = KMeans(n_clusters=4, random_state=42).fit(scaller_train)\n",
    "kmeans.labels_"
   ]
  },
  {
   "cell_type": "code",
   "execution_count": 18,
   "metadata": {},
   "outputs": [
    {
     "name": "stdout",
     "output_type": "stream",
     "text": [
      "label: [0 1 2 3]\n",
      "counts: [123  79  58   1]\n"
     ]
    }
   ],
   "source": [
    "unique, counts = np.unique(kmeans.labels_, return_counts=True)\n",
    "print(\"label:\", unique)\n",
    "print(\"counts:\", counts)"
   ]
  },
  {
   "cell_type": "code",
   "execution_count": 20,
   "metadata": {},
   "outputs": [
    {
     "data": {
      "text/plain": [
       "0.2372377456079806"
      ]
     },
     "execution_count": 20,
     "metadata": {},
     "output_type": "execute_result"
    }
   ],
   "source": [
    "silhouette_score(scaller_train, kmeans.labels_)"
   ]
  },
  {
   "cell_type": "code",
   "execution_count": 21,
   "metadata": {},
   "outputs": [
    {
     "data": {
      "text/html": [
       "<div>\n",
       "<style scoped>\n",
       "    .dataframe tbody tr th:only-of-type {\n",
       "        vertical-align: middle;\n",
       "    }\n",
       "\n",
       "    .dataframe tbody tr th {\n",
       "        vertical-align: top;\n",
       "    }\n",
       "\n",
       "    .dataframe thead th {\n",
       "        text-align: right;\n",
       "    }\n",
       "</style>\n",
       "<table border=\"1\" class=\"dataframe\">\n",
       "  <thead>\n",
       "    <tr style=\"text-align: right;\">\n",
       "      <th></th>\n",
       "      <th>A0</th>\n",
       "      <th>A1</th>\n",
       "      <th>A2</th>\n",
       "      <th>A3</th>\n",
       "      <th>A4</th>\n",
       "      <th>A5</th>\n",
       "      <th>A6</th>\n",
       "      <th>A7</th>\n",
       "      <th>A8</th>\n",
       "      <th>A9</th>\n",
       "      <th>A10</th>\n",
       "      <th>Y</th>\n",
       "    </tr>\n",
       "  </thead>\n",
       "  <tbody>\n",
       "    <tr>\n",
       "      <th>0</th>\n",
       "      <td>365.684615</td>\n",
       "      <td>380.192308</td>\n",
       "      <td>22</td>\n",
       "      <td>40</td>\n",
       "      <td>44</td>\n",
       "      <td>4</td>\n",
       "      <td>5</td>\n",
       "      <td>69</td>\n",
       "      <td>61</td>\n",
       "      <td>64</td>\n",
       "      <td>47.0</td>\n",
       "      <td>0</td>\n",
       "    </tr>\n",
       "    <tr>\n",
       "      <th>1</th>\n",
       "      <td>396.432836</td>\n",
       "      <td>386.828358</td>\n",
       "      <td>25</td>\n",
       "      <td>32</td>\n",
       "      <td>33</td>\n",
       "      <td>1</td>\n",
       "      <td>5</td>\n",
       "      <td>77</td>\n",
       "      <td>66</td>\n",
       "      <td>57</td>\n",
       "      <td>50.0</td>\n",
       "      <td>0</td>\n",
       "    </tr>\n",
       "    <tr>\n",
       "      <th>2</th>\n",
       "      <td>335.674157</td>\n",
       "      <td>374.764045</td>\n",
       "      <td>26</td>\n",
       "      <td>46</td>\n",
       "      <td>51</td>\n",
       "      <td>5</td>\n",
       "      <td>6</td>\n",
       "      <td>108</td>\n",
       "      <td>88</td>\n",
       "      <td>76</td>\n",
       "      <td>56.0</td>\n",
       "      <td>0</td>\n",
       "    </tr>\n",
       "    <tr>\n",
       "      <th>3</th>\n",
       "      <td>346.833333</td>\n",
       "      <td>385.871795</td>\n",
       "      <td>27</td>\n",
       "      <td>40</td>\n",
       "      <td>47</td>\n",
       "      <td>7</td>\n",
       "      <td>5</td>\n",
       "      <td>103</td>\n",
       "      <td>71</td>\n",
       "      <td>65</td>\n",
       "      <td>52.0</td>\n",
       "      <td>0</td>\n",
       "    </tr>\n",
       "    <tr>\n",
       "      <th>4</th>\n",
       "      <td>371.468750</td>\n",
       "      <td>395.756250</td>\n",
       "      <td>26</td>\n",
       "      <td>44</td>\n",
       "      <td>50</td>\n",
       "      <td>6</td>\n",
       "      <td>6</td>\n",
       "      <td>94</td>\n",
       "      <td>63</td>\n",
       "      <td>74</td>\n",
       "      <td>56.0</td>\n",
       "      <td>0</td>\n",
       "    </tr>\n",
       "    <tr>\n",
       "      <th>...</th>\n",
       "      <td>...</td>\n",
       "      <td>...</td>\n",
       "      <td>...</td>\n",
       "      <td>...</td>\n",
       "      <td>...</td>\n",
       "      <td>...</td>\n",
       "      <td>...</td>\n",
       "      <td>...</td>\n",
       "      <td>...</td>\n",
       "      <td>...</td>\n",
       "      <td>...</td>\n",
       "      <td>...</td>\n",
       "    </tr>\n",
       "    <tr>\n",
       "      <th>256</th>\n",
       "      <td>370.692308</td>\n",
       "      <td>174.230769</td>\n",
       "      <td>6</td>\n",
       "      <td>8</td>\n",
       "      <td>27</td>\n",
       "      <td>19</td>\n",
       "      <td>1</td>\n",
       "      <td>11</td>\n",
       "      <td>12</td>\n",
       "      <td>13</td>\n",
       "      <td>11.0</td>\n",
       "      <td>1</td>\n",
       "    </tr>\n",
       "    <tr>\n",
       "      <th>257</th>\n",
       "      <td>383.555556</td>\n",
       "      <td>165.555556</td>\n",
       "      <td>3</td>\n",
       "      <td>7</td>\n",
       "      <td>18</td>\n",
       "      <td>11</td>\n",
       "      <td>1</td>\n",
       "      <td>15</td>\n",
       "      <td>14</td>\n",
       "      <td>12</td>\n",
       "      <td>8.0</td>\n",
       "      <td>1</td>\n",
       "    </tr>\n",
       "    <tr>\n",
       "      <th>258</th>\n",
       "      <td>388.282051</td>\n",
       "      <td>281.717949</td>\n",
       "      <td>17</td>\n",
       "      <td>41</td>\n",
       "      <td>50</td>\n",
       "      <td>9</td>\n",
       "      <td>3</td>\n",
       "      <td>52</td>\n",
       "      <td>53</td>\n",
       "      <td>56</td>\n",
       "      <td>32.0</td>\n",
       "      <td>0</td>\n",
       "    </tr>\n",
       "    <tr>\n",
       "      <th>259</th>\n",
       "      <td>368.000000</td>\n",
       "      <td>323.250000</td>\n",
       "      <td>0</td>\n",
       "      <td>0</td>\n",
       "      <td>0</td>\n",
       "      <td>0</td>\n",
       "      <td>1</td>\n",
       "      <td>0</td>\n",
       "      <td>1</td>\n",
       "      <td>5</td>\n",
       "      <td>5.0</td>\n",
       "      <td>1</td>\n",
       "    </tr>\n",
       "    <tr>\n",
       "      <th>260</th>\n",
       "      <td>342.625000</td>\n",
       "      <td>305.750000</td>\n",
       "      <td>0</td>\n",
       "      <td>0</td>\n",
       "      <td>0</td>\n",
       "      <td>0</td>\n",
       "      <td>1</td>\n",
       "      <td>1</td>\n",
       "      <td>1</td>\n",
       "      <td>5</td>\n",
       "      <td>5.0</td>\n",
       "      <td>1</td>\n",
       "    </tr>\n",
       "  </tbody>\n",
       "</table>\n",
       "<p>261 rows × 12 columns</p>\n",
       "</div>"
      ],
      "text/plain": [
       "             A0          A1  A2  A3  A4  A5  A6   A7  A8  A9   A10  Y\n",
       "0    365.684615  380.192308  22  40  44   4   5   69  61  64  47.0  0\n",
       "1    396.432836  386.828358  25  32  33   1   5   77  66  57  50.0  0\n",
       "2    335.674157  374.764045  26  46  51   5   6  108  88  76  56.0  0\n",
       "3    346.833333  385.871795  27  40  47   7   5  103  71  65  52.0  0\n",
       "4    371.468750  395.756250  26  44  50   6   6   94  63  74  56.0  0\n",
       "..          ...         ...  ..  ..  ..  ..  ..  ...  ..  ..   ... ..\n",
       "256  370.692308  174.230769   6   8  27  19   1   11  12  13  11.0  1\n",
       "257  383.555556  165.555556   3   7  18  11   1   15  14  12   8.0  1\n",
       "258  388.282051  281.717949  17  41  50   9   3   52  53  56  32.0  0\n",
       "259  368.000000  323.250000   0   0   0   0   1    0   1   5   5.0  1\n",
       "260  342.625000  305.750000   0   0   0   0   1    1   1   5   5.0  1\n",
       "\n",
       "[261 rows x 12 columns]"
      ]
     },
     "execution_count": 21,
     "metadata": {},
     "output_type": "execute_result"
    }
   ],
   "source": [
    "df_train['Y'] = kmeans.labels_\n",
    "df_train"
   ]
  },
  {
   "cell_type": "code",
   "execution_count": 22,
   "metadata": {},
   "outputs": [
    {
     "data": {
      "text/html": [
       "<div>\n",
       "<style scoped>\n",
       "    .dataframe tbody tr th:only-of-type {\n",
       "        vertical-align: middle;\n",
       "    }\n",
       "\n",
       "    .dataframe tbody tr th {\n",
       "        vertical-align: top;\n",
       "    }\n",
       "\n",
       "    .dataframe thead th {\n",
       "        text-align: right;\n",
       "    }\n",
       "</style>\n",
       "<table border=\"1\" class=\"dataframe\">\n",
       "  <thead>\n",
       "    <tr style=\"text-align: right;\">\n",
       "      <th></th>\n",
       "      <th>A0</th>\n",
       "      <th>A1</th>\n",
       "      <th>A2</th>\n",
       "      <th>A3</th>\n",
       "      <th>A4</th>\n",
       "      <th>A5</th>\n",
       "      <th>A6</th>\n",
       "      <th>A7</th>\n",
       "      <th>A8</th>\n",
       "      <th>A9</th>\n",
       "      <th>A10</th>\n",
       "    </tr>\n",
       "    <tr>\n",
       "      <th>Y</th>\n",
       "      <th></th>\n",
       "      <th></th>\n",
       "      <th></th>\n",
       "      <th></th>\n",
       "      <th></th>\n",
       "      <th></th>\n",
       "      <th></th>\n",
       "      <th></th>\n",
       "      <th></th>\n",
       "      <th></th>\n",
       "      <th></th>\n",
       "    </tr>\n",
       "  </thead>\n",
       "  <tbody>\n",
       "    <tr>\n",
       "      <th>0</th>\n",
       "      <td>365.499937</td>\n",
       "      <td>371.148511</td>\n",
       "      <td>14.861789</td>\n",
       "      <td>41.902439</td>\n",
       "      <td>52.406504</td>\n",
       "      <td>10.504065</td>\n",
       "      <td>4.203252</td>\n",
       "      <td>72.634146</td>\n",
       "      <td>31.829268</td>\n",
       "      <td>62.772358</td>\n",
       "      <td>35.869919</td>\n",
       "    </tr>\n",
       "    <tr>\n",
       "      <th>1</th>\n",
       "      <td>373.362270</td>\n",
       "      <td>298.448926</td>\n",
       "      <td>5.329114</td>\n",
       "      <td>8.810127</td>\n",
       "      <td>15.607595</td>\n",
       "      <td>6.797468</td>\n",
       "      <td>1.708861</td>\n",
       "      <td>21.075949</td>\n",
       "      <td>11.329114</td>\n",
       "      <td>17.291139</td>\n",
       "      <td>13.860759</td>\n",
       "    </tr>\n",
       "    <tr>\n",
       "      <th>2</th>\n",
       "      <td>373.982523</td>\n",
       "      <td>372.985659</td>\n",
       "      <td>19.948276</td>\n",
       "      <td>84.517241</td>\n",
       "      <td>108.327586</td>\n",
       "      <td>23.810345</td>\n",
       "      <td>5.724138</td>\n",
       "      <td>122.844828</td>\n",
       "      <td>63.534483</td>\n",
       "      <td>112.896552</td>\n",
       "      <td>48.568966</td>\n",
       "    </tr>\n",
       "    <tr>\n",
       "      <th>3</th>\n",
       "      <td>403.000000</td>\n",
       "      <td>383.957746</td>\n",
       "      <td>23.000000</td>\n",
       "      <td>50.000000</td>\n",
       "      <td>54.000000</td>\n",
       "      <td>4.000000</td>\n",
       "      <td>5.000000</td>\n",
       "      <td>85.000000</td>\n",
       "      <td>56.000000</td>\n",
       "      <td>74.000000</td>\n",
       "      <td>48289.913790</td>\n",
       "    </tr>\n",
       "  </tbody>\n",
       "</table>\n",
       "</div>"
      ],
      "text/plain": [
       "           A0          A1         A2         A3          A4         A5  \\\n",
       "Y                                                                        \n",
       "0  365.499937  371.148511  14.861789  41.902439   52.406504  10.504065   \n",
       "1  373.362270  298.448926   5.329114   8.810127   15.607595   6.797468   \n",
       "2  373.982523  372.985659  19.948276  84.517241  108.327586  23.810345   \n",
       "3  403.000000  383.957746  23.000000  50.000000   54.000000   4.000000   \n",
       "\n",
       "         A6          A7         A8          A9           A10  \n",
       "Y                                                             \n",
       "0  4.203252   72.634146  31.829268   62.772358     35.869919  \n",
       "1  1.708861   21.075949  11.329114   17.291139     13.860759  \n",
       "2  5.724138  122.844828  63.534483  112.896552     48.568966  \n",
       "3  5.000000   85.000000  56.000000   74.000000  48289.913790  "
      ]
     },
     "execution_count": 22,
     "metadata": {},
     "output_type": "execute_result"
    }
   ],
   "source": [
    "df_train.groupby(['Y']).mean()"
   ]
  },
  {
   "cell_type": "code",
   "execution_count": 23,
   "metadata": {},
   "outputs": [
    {
     "name": "stdout",
     "output_type": "stream",
     "text": [
      "[41.90243902439025, 8.810126582278482, 84.51724137931035, 50.0]\n",
      "[14.861788617886178, 5.329113924050633, 19.948275862068964, 23.0]\n"
     ]
    }
   ],
   "source": [
    "mean_collected_coin = list(df_train.groupby(['Y']).mean()['A2'])\n",
    "mean_enemies_kills = list(df_train.groupby(['Y']).mean()['A3'])\n",
    "print(mean_enemies_kills)\n",
    "print(mean_collected_coin)"
   ]
  },
  {
   "cell_type": "code",
   "execution_count": 24,
   "metadata": {},
   "outputs": [
    {
     "name": "stdout",
     "output_type": "stream",
     "text": [
      "[3, 2, 0, 1]\n",
      "{3: 'Hardcore Achiever', 2: 'Hardcore Killer', 0: 'Casual Achiever', 1: 'Casual Killer'}\n"
     ]
    }
   ],
   "source": [
    "labels = []\n",
    "num_labels = len(mean_collected_coin)\n",
    "for i in range(num_labels):\n",
    "    if i % 2 == 0:\n",
    "        sorted_index = np.argsort(mean_collected_coin)\n",
    "    else:\n",
    "        sorted_index = np.argsort(mean_enemies_kills)\n",
    "\n",
    "    sorted_index = list(sorted_index)\n",
    "    sorted_index.reverse()\n",
    "    for max_index in sorted_index:\n",
    "        if max_index not in labels:\n",
    "            labels.append(max_index)\n",
    "            break\n",
    "\n",
    "print(labels)\n",
    "\n",
    "LABELS = {\n",
    "    labels[0]: 'Hardcore Achiever',\n",
    "    labels[1]: 'Hardcore Killer',\n",
    "    labels[2]: 'Casual Achiever',\n",
    "    labels[3]: 'Casual Killer',\n",
    "}\n",
    "print(LABELS)"
   ]
  },
  {
   "cell_type": "markdown",
   "metadata": {},
   "source": [
    "Train decision tree"
   ]
  },
  {
   "cell_type": "code",
   "execution_count": 25,
   "metadata": {},
   "outputs": [
    {
     "data": {
      "text/html": [
       "<div>\n",
       "<style scoped>\n",
       "    .dataframe tbody tr th:only-of-type {\n",
       "        vertical-align: middle;\n",
       "    }\n",
       "\n",
       "    .dataframe tbody tr th {\n",
       "        vertical-align: top;\n",
       "    }\n",
       "\n",
       "    .dataframe thead th {\n",
       "        text-align: right;\n",
       "    }\n",
       "</style>\n",
       "<table border=\"1\" class=\"dataframe\">\n",
       "  <thead>\n",
       "    <tr style=\"text-align: right;\">\n",
       "      <th></th>\n",
       "      <th>A0</th>\n",
       "      <th>A1</th>\n",
       "      <th>A2</th>\n",
       "      <th>A3</th>\n",
       "      <th>A4</th>\n",
       "      <th>A5</th>\n",
       "      <th>A6</th>\n",
       "      <th>A7</th>\n",
       "      <th>A8</th>\n",
       "      <th>A9</th>\n",
       "      <th>A10</th>\n",
       "    </tr>\n",
       "  </thead>\n",
       "  <tbody>\n",
       "    <tr>\n",
       "      <th>0</th>\n",
       "      <td>365.684615</td>\n",
       "      <td>380.192308</td>\n",
       "      <td>22</td>\n",
       "      <td>40</td>\n",
       "      <td>44</td>\n",
       "      <td>4</td>\n",
       "      <td>5</td>\n",
       "      <td>69</td>\n",
       "      <td>61</td>\n",
       "      <td>64</td>\n",
       "      <td>47.0</td>\n",
       "    </tr>\n",
       "    <tr>\n",
       "      <th>1</th>\n",
       "      <td>396.432836</td>\n",
       "      <td>386.828358</td>\n",
       "      <td>25</td>\n",
       "      <td>32</td>\n",
       "      <td>33</td>\n",
       "      <td>1</td>\n",
       "      <td>5</td>\n",
       "      <td>77</td>\n",
       "      <td>66</td>\n",
       "      <td>57</td>\n",
       "      <td>50.0</td>\n",
       "    </tr>\n",
       "    <tr>\n",
       "      <th>2</th>\n",
       "      <td>335.674157</td>\n",
       "      <td>374.764045</td>\n",
       "      <td>26</td>\n",
       "      <td>46</td>\n",
       "      <td>51</td>\n",
       "      <td>5</td>\n",
       "      <td>6</td>\n",
       "      <td>108</td>\n",
       "      <td>88</td>\n",
       "      <td>76</td>\n",
       "      <td>56.0</td>\n",
       "    </tr>\n",
       "    <tr>\n",
       "      <th>3</th>\n",
       "      <td>346.833333</td>\n",
       "      <td>385.871795</td>\n",
       "      <td>27</td>\n",
       "      <td>40</td>\n",
       "      <td>47</td>\n",
       "      <td>7</td>\n",
       "      <td>5</td>\n",
       "      <td>103</td>\n",
       "      <td>71</td>\n",
       "      <td>65</td>\n",
       "      <td>52.0</td>\n",
       "    </tr>\n",
       "    <tr>\n",
       "      <th>4</th>\n",
       "      <td>371.468750</td>\n",
       "      <td>395.756250</td>\n",
       "      <td>26</td>\n",
       "      <td>44</td>\n",
       "      <td>50</td>\n",
       "      <td>6</td>\n",
       "      <td>6</td>\n",
       "      <td>94</td>\n",
       "      <td>63</td>\n",
       "      <td>74</td>\n",
       "      <td>56.0</td>\n",
       "    </tr>\n",
       "    <tr>\n",
       "      <th>...</th>\n",
       "      <td>...</td>\n",
       "      <td>...</td>\n",
       "      <td>...</td>\n",
       "      <td>...</td>\n",
       "      <td>...</td>\n",
       "      <td>...</td>\n",
       "      <td>...</td>\n",
       "      <td>...</td>\n",
       "      <td>...</td>\n",
       "      <td>...</td>\n",
       "      <td>...</td>\n",
       "    </tr>\n",
       "    <tr>\n",
       "      <th>256</th>\n",
       "      <td>370.692308</td>\n",
       "      <td>174.230769</td>\n",
       "      <td>6</td>\n",
       "      <td>8</td>\n",
       "      <td>27</td>\n",
       "      <td>19</td>\n",
       "      <td>1</td>\n",
       "      <td>11</td>\n",
       "      <td>12</td>\n",
       "      <td>13</td>\n",
       "      <td>11.0</td>\n",
       "    </tr>\n",
       "    <tr>\n",
       "      <th>257</th>\n",
       "      <td>383.555556</td>\n",
       "      <td>165.555556</td>\n",
       "      <td>3</td>\n",
       "      <td>7</td>\n",
       "      <td>18</td>\n",
       "      <td>11</td>\n",
       "      <td>1</td>\n",
       "      <td>15</td>\n",
       "      <td>14</td>\n",
       "      <td>12</td>\n",
       "      <td>8.0</td>\n",
       "    </tr>\n",
       "    <tr>\n",
       "      <th>258</th>\n",
       "      <td>388.282051</td>\n",
       "      <td>281.717949</td>\n",
       "      <td>17</td>\n",
       "      <td>41</td>\n",
       "      <td>50</td>\n",
       "      <td>9</td>\n",
       "      <td>3</td>\n",
       "      <td>52</td>\n",
       "      <td>53</td>\n",
       "      <td>56</td>\n",
       "      <td>32.0</td>\n",
       "    </tr>\n",
       "    <tr>\n",
       "      <th>259</th>\n",
       "      <td>368.000000</td>\n",
       "      <td>323.250000</td>\n",
       "      <td>0</td>\n",
       "      <td>0</td>\n",
       "      <td>0</td>\n",
       "      <td>0</td>\n",
       "      <td>1</td>\n",
       "      <td>0</td>\n",
       "      <td>1</td>\n",
       "      <td>5</td>\n",
       "      <td>5.0</td>\n",
       "    </tr>\n",
       "    <tr>\n",
       "      <th>260</th>\n",
       "      <td>342.625000</td>\n",
       "      <td>305.750000</td>\n",
       "      <td>0</td>\n",
       "      <td>0</td>\n",
       "      <td>0</td>\n",
       "      <td>0</td>\n",
       "      <td>1</td>\n",
       "      <td>1</td>\n",
       "      <td>1</td>\n",
       "      <td>5</td>\n",
       "      <td>5.0</td>\n",
       "    </tr>\n",
       "  </tbody>\n",
       "</table>\n",
       "<p>261 rows × 11 columns</p>\n",
       "</div>"
      ],
      "text/plain": [
       "             A0          A1  A2  A3  A4  A5  A6   A7  A8  A9   A10\n",
       "0    365.684615  380.192308  22  40  44   4   5   69  61  64  47.0\n",
       "1    396.432836  386.828358  25  32  33   1   5   77  66  57  50.0\n",
       "2    335.674157  374.764045  26  46  51   5   6  108  88  76  56.0\n",
       "3    346.833333  385.871795  27  40  47   7   5  103  71  65  52.0\n",
       "4    371.468750  395.756250  26  44  50   6   6   94  63  74  56.0\n",
       "..          ...         ...  ..  ..  ..  ..  ..  ...  ..  ..   ...\n",
       "256  370.692308  174.230769   6   8  27  19   1   11  12  13  11.0\n",
       "257  383.555556  165.555556   3   7  18  11   1   15  14  12   8.0\n",
       "258  388.282051  281.717949  17  41  50   9   3   52  53  56  32.0\n",
       "259  368.000000  323.250000   0   0   0   0   1    0   1   5   5.0\n",
       "260  342.625000  305.750000   0   0   0   0   1    1   1   5   5.0\n",
       "\n",
       "[261 rows x 11 columns]"
      ]
     },
     "execution_count": 25,
     "metadata": {},
     "output_type": "execute_result"
    }
   ],
   "source": [
    "X = df_train.iloc[:, 0:11]\n",
    "X"
   ]
  },
  {
   "cell_type": "code",
   "execution_count": 26,
   "metadata": {},
   "outputs": [
    {
     "data": {
      "text/plain": [
       "0      0\n",
       "1      0\n",
       "2      0\n",
       "3      0\n",
       "4      0\n",
       "      ..\n",
       "256    1\n",
       "257    1\n",
       "258    0\n",
       "259    1\n",
       "260    1\n",
       "Name: Y, Length: 261, dtype: int32"
      ]
     },
     "execution_count": 26,
     "metadata": {},
     "output_type": "execute_result"
    }
   ],
   "source": [
    "y = df_train.iloc[:, 11]\n",
    "y"
   ]
  },
  {
   "cell_type": "code",
   "execution_count": 27,
   "metadata": {},
   "outputs": [],
   "source": [
    "X_train, X_test, y_train, y_test = train_test_split(X, y, test_size=0.2, random_state=1)"
   ]
  },
  {
   "cell_type": "code",
   "execution_count": 28,
   "metadata": {},
   "outputs": [],
   "source": [
    "dt_scaler = StandardScaler()"
   ]
  },
  {
   "cell_type": "code",
   "execution_count": 29,
   "metadata": {},
   "outputs": [
    {
     "data": {
      "text/plain": [
       "array([[-0.05556713, -2.32449738, -0.8061842 , ..., -0.78548833,\n",
       "        -1.25545029, -0.07589213],\n",
       "       [ 1.03677777,  1.87127151, -0.69156608, ..., -0.71914048,\n",
       "         1.30099787, -0.06810314],\n",
       "       [ 0.30363934,  0.23345887,  1.60079638, ...,  0.77368607,\n",
       "         0.14808988, -0.06360949],\n",
       "       ...,\n",
       "       [ 0.84237244,  0.2698365 , -0.92080233, ..., -0.81866225,\n",
       "         0.24834274, -0.07020017],\n",
       "       [-0.62980203,  0.65191439, -1.49389294, ..., -1.0177058 ,\n",
       "        -1.43089282, -0.07768959],\n",
       "       [ 1.24730257, -0.161712  ,  0.91308764, ...,  0.57464253,\n",
       "        -0.12760552, -0.06690483]])"
      ]
     },
     "execution_count": 29,
     "metadata": {},
     "output_type": "execute_result"
    }
   ],
   "source": [
    "X_train_scale = dt_scaler.fit_transform(X_train)\n",
    "X_train_scale"
   ]
  },
  {
   "cell_type": "code",
   "execution_count": 30,
   "metadata": {},
   "outputs": [
    {
     "name": "stderr",
     "output_type": "stream",
     "text": [
      "C:\\Users\\Peeranut Chuasuai\\.conda\\lib\\site-packages\\sklearn\\model_selection\\_split.py:670: UserWarning: The least populated class in y has only 1 members, which is less than n_splits=10.\n",
      "  warnings.warn((\"The least populated class in y has only %d\"\n"
     ]
    },
    {
     "name": "stdout",
     "output_type": "stream",
     "text": [
      "0.8895238095238094\n"
     ]
    }
   ],
   "source": [
    "gbt_clf = GradientBoostingClassifier()\n",
    "accuracies = cross_val_score(gbt_clf, X_train_scale, y_train, cv=10)\n",
    "print(accuracies.mean())"
   ]
  },
  {
   "cell_type": "code",
   "execution_count": 31,
   "metadata": {},
   "outputs": [
    {
     "name": "stdout",
     "output_type": "stream",
     "text": [
      "0.9045238095238094\n"
     ]
    },
    {
     "name": "stderr",
     "output_type": "stream",
     "text": [
      "C:\\Users\\Peeranut Chuasuai\\.conda\\lib\\site-packages\\sklearn\\model_selection\\_split.py:670: UserWarning: The least populated class in y has only 1 members, which is less than n_splits=10.\n",
      "  warnings.warn((\"The least populated class in y has only %d\"\n"
     ]
    }
   ],
   "source": [
    "dt_clf = DecisionTreeClassifier()\n",
    "accuracies = cross_val_score(dt_clf, X_train_scale, y_train, cv=10)\n",
    "print(accuracies.mean())"
   ]
  },
  {
   "cell_type": "code",
   "execution_count": 32,
   "metadata": {},
   "outputs": [
    {
     "name": "stderr",
     "output_type": "stream",
     "text": [
      "C:\\Users\\Peeranut Chuasuai\\.conda\\lib\\site-packages\\sklearn\\model_selection\\_split.py:670: UserWarning: The least populated class in y has only 1 members, which is less than n_splits=10.\n",
      "  warnings.warn((\"The least populated class in y has only %d\"\n"
     ]
    },
    {
     "name": "stdout",
     "output_type": "stream",
     "text": [
      "0.9283333333333333\n"
     ]
    }
   ],
   "source": [
    "rbt_clf = RandomForestClassifier()\n",
    "accuracies = cross_val_score(rbt_clf, X_train_scale, y_train, cv=10)\n",
    "print(accuracies.mean())"
   ]
  },
  {
   "cell_type": "code",
   "execution_count": 33,
   "metadata": {},
   "outputs": [
    {
     "name": "stdout",
     "output_type": "stream",
     "text": [
      "              precision    recall  f1-score   support\n",
      "\n",
      "           0       0.81      0.92      0.86        24\n",
      "           1       0.94      0.89      0.92        19\n",
      "           2       0.88      0.70      0.78        10\n",
      "\n",
      "    accuracy                           0.87        53\n",
      "   macro avg       0.88      0.84      0.85        53\n",
      "weighted avg       0.87      0.87      0.87        53\n",
      "\n"
     ]
    }
   ],
   "source": [
    "clf = RandomForestClassifier()\n",
    "clf.fit(X_train_scale, y_train)\n",
    "\n",
    "X_test_scale = dt_scaler.transform(X_test)\n",
    "y_pred = clf.predict(X_test_scale)\n",
    "print(classification_report(y_test, y_pred))"
   ]
  },
  {
   "cell_type": "code",
   "execution_count": 34,
   "metadata": {},
   "outputs": [
    {
     "data": {
      "text/plain": [
       "['../SpaceWars/model/model.h5']"
      ]
     },
     "execution_count": 34,
     "metadata": {},
     "output_type": "execute_result"
    }
   ],
   "source": [
    "dump(clf, '../SpaceWars/model/model.h5')"
   ]
  },
  {
   "cell_type": "code",
   "execution_count": 35,
   "metadata": {},
   "outputs": [
    {
     "data": {
      "text/plain": [
       "['../SpaceWars/model/scaler.bin']"
      ]
     },
     "execution_count": 35,
     "metadata": {},
     "output_type": "execute_result"
    }
   ],
   "source": [
    "dump(dt_scaler, '../SpaceWars/model/scaler.bin')"
   ]
  },
  {
   "cell_type": "code",
   "execution_count": 36,
   "metadata": {},
   "outputs": [
    {
     "name": "stdout",
     "output_type": "stream",
     "text": [
      "{3: 'Hardcore Achiever', 2: 'Hardcore Killer', 0: 'Casual Achiever', 1: 'Casual Killer'}\n"
     ]
    }
   ],
   "source": [
    "print(LABELS)"
   ]
  },
  {
   "cell_type": "code",
   "execution_count": null,
   "metadata": {},
   "outputs": [],
   "source": []
  }
 ],
 "metadata": {
  "interpreter": {
   "hash": "a29dad0eff2b5686b9dccb5a5590d68b987e4f023e06b1642bf12c43d130b0e5"
  },
  "kernelspec": {
   "display_name": "Python 3",
   "language": "python",
   "name": "python3"
  },
  "language_info": {
   "codemirror_mode": {
    "name": "ipython",
    "version": 3
   },
   "file_extension": ".py",
   "mimetype": "text/x-python",
   "name": "python",
   "nbconvert_exporter": "python",
   "pygments_lexer": "ipython3",
   "version": "3.8.5"
  }
 },
 "nbformat": 4,
 "nbformat_minor": 2
}
