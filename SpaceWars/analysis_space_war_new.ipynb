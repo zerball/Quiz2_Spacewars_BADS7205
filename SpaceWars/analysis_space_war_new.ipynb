{
  "cells": [
    {
      "cell_type": "code",
      "execution_count": 127,
      "metadata": {
        "colab": {
          "base_uri": "https://localhost:8080/"
        },
        "id": "1JBYv2MDW_q_",
        "outputId": "bb16d761-4aa1-4aef-91de-72a2c92a90e6"
      },
      "outputs": [],
      "source": [
        "# !pip install river"
      ]
    },
    {
      "cell_type": "code",
      "execution_count": 128,
      "metadata": {
        "colab": {
          "base_uri": "https://localhost:8080/",
          "height": 323
        },
        "id": "HMhYwRiOX-So",
        "outputId": "68f5870b-cb2e-47e8-8250-3de19b379b4b"
      },
      "outputs": [],
      "source": [
        "# !pip install -U numpy"
      ]
    },
    {
      "cell_type": "code",
      "execution_count": 129,
      "metadata": {
        "id": "oGYjGxy-VipM"
      },
      "outputs": [],
      "source": [
        "import pandas as pd\n",
        "from sklearn.preprocessing import StandardScaler\n",
        "import joblib\n",
        "import numpy as np"
      ]
    },
    {
      "cell_type": "code",
      "execution_count": 130,
      "metadata": {
        "id": "npHh8UX-V9A7"
      },
      "outputs": [],
      "source": [
        "df = pd.read_csv(\"train_all.csv\")"
      ]
    },
    {
      "cell_type": "code",
      "execution_count": 131,
      "metadata": {
        "id": "aRuR-M_PWUvT"
      },
      "outputs": [
        {
          "data": {
            "text/html": [
              "<div>\n",
              "<style scoped>\n",
              "    .dataframe tbody tr th:only-of-type {\n",
              "        vertical-align: middle;\n",
              "    }\n",
              "\n",
              "    .dataframe tbody tr th {\n",
              "        vertical-align: top;\n",
              "    }\n",
              "\n",
              "    .dataframe thead th {\n",
              "        text-align: right;\n",
              "    }\n",
              "</style>\n",
              "<table border=\"1\" class=\"dataframe\">\n",
              "  <thead>\n",
              "    <tr style=\"text-align: right;\">\n",
              "      <th></th>\n",
              "      <th>A0</th>\n",
              "      <th>A1</th>\n",
              "      <th>A2</th>\n",
              "      <th>A3</th>\n",
              "      <th>A4</th>\n",
              "      <th>A5</th>\n",
              "      <th>A6</th>\n",
              "      <th>A7</th>\n",
              "      <th>A8</th>\n",
              "      <th>A9</th>\n",
              "      <th>A10</th>\n",
              "    </tr>\n",
              "  </thead>\n",
              "  <tbody>\n",
              "    <tr>\n",
              "      <th>0</th>\n",
              "      <td>365.684615</td>\n",
              "      <td>380.192308</td>\n",
              "      <td>22</td>\n",
              "      <td>40</td>\n",
              "      <td>44</td>\n",
              "      <td>4</td>\n",
              "      <td>5</td>\n",
              "      <td>69</td>\n",
              "      <td>61</td>\n",
              "      <td>64</td>\n",
              "      <td>47</td>\n",
              "    </tr>\n",
              "    <tr>\n",
              "      <th>1</th>\n",
              "      <td>396.432836</td>\n",
              "      <td>386.828358</td>\n",
              "      <td>25</td>\n",
              "      <td>32</td>\n",
              "      <td>33</td>\n",
              "      <td>1</td>\n",
              "      <td>5</td>\n",
              "      <td>77</td>\n",
              "      <td>66</td>\n",
              "      <td>57</td>\n",
              "      <td>50</td>\n",
              "    </tr>\n",
              "    <tr>\n",
              "      <th>2</th>\n",
              "      <td>335.674157</td>\n",
              "      <td>374.764045</td>\n",
              "      <td>26</td>\n",
              "      <td>46</td>\n",
              "      <td>51</td>\n",
              "      <td>5</td>\n",
              "      <td>6</td>\n",
              "      <td>108</td>\n",
              "      <td>88</td>\n",
              "      <td>76</td>\n",
              "      <td>56</td>\n",
              "    </tr>\n",
              "    <tr>\n",
              "      <th>3</th>\n",
              "      <td>346.833333</td>\n",
              "      <td>385.871795</td>\n",
              "      <td>27</td>\n",
              "      <td>40</td>\n",
              "      <td>47</td>\n",
              "      <td>7</td>\n",
              "      <td>5</td>\n",
              "      <td>103</td>\n",
              "      <td>71</td>\n",
              "      <td>65</td>\n",
              "      <td>52</td>\n",
              "    </tr>\n",
              "    <tr>\n",
              "      <th>4</th>\n",
              "      <td>371.468750</td>\n",
              "      <td>395.756250</td>\n",
              "      <td>26</td>\n",
              "      <td>44</td>\n",
              "      <td>50</td>\n",
              "      <td>6</td>\n",
              "      <td>6</td>\n",
              "      <td>94</td>\n",
              "      <td>63</td>\n",
              "      <td>74</td>\n",
              "      <td>56</td>\n",
              "    </tr>\n",
              "  </tbody>\n",
              "</table>\n",
              "</div>"
            ],
            "text/plain": [
              "           A0          A1  A2  A3  A4  A5  A6   A7  A8  A9  A10\n",
              "0  365.684615  380.192308  22  40  44   4   5   69  61  64   47\n",
              "1  396.432836  386.828358  25  32  33   1   5   77  66  57   50\n",
              "2  335.674157  374.764045  26  46  51   5   6  108  88  76   56\n",
              "3  346.833333  385.871795  27  40  47   7   5  103  71  65   52\n",
              "4  371.468750  395.756250  26  44  50   6   6   94  63  74   56"
            ]
          },
          "execution_count": 131,
          "metadata": {},
          "output_type": "execute_result"
        }
      ],
      "source": [
        "df.head()"
      ]
    },
    {
      "cell_type": "markdown",
      "metadata": {},
      "source": [
        "A0) Position in X axis => position X [1, 2, 3, 2, 1] / 5  \n",
        "A1) Position in Y axis => position Y [200, 150, 130, 170] / 4  \n",
        "A2) Number of coins collected => Total  \n",
        "A3) Number of destroyed enemies => Total  \n",
        "A4) Number of shots => Total  \n",
        "A5) Number of shots without enemies => Total (A4 - A3)  \n",
        "A6) Level reach  \n",
        "A7) key X pressed count  \n",
        "A8) key Y pressed count  \n",
        "A9) Number of enemy created  \n",
        "A10) Number of coin created  "
      ]
    },
    {
      "cell_type": "code",
      "execution_count": 132,
      "metadata": {},
      "outputs": [],
      "source": [
        "# select columns\n",
        "df = df[['A2','A3','A4','A6','A7','A8','A9','A10']]"
      ]
    },
    {
      "cell_type": "code",
      "execution_count": 133,
      "metadata": {},
      "outputs": [
        {
          "data": {
            "text/html": [
              "<div>\n",
              "<style scoped>\n",
              "    .dataframe tbody tr th:only-of-type {\n",
              "        vertical-align: middle;\n",
              "    }\n",
              "\n",
              "    .dataframe tbody tr th {\n",
              "        vertical-align: top;\n",
              "    }\n",
              "\n",
              "    .dataframe thead th {\n",
              "        text-align: right;\n",
              "    }\n",
              "</style>\n",
              "<table border=\"1\" class=\"dataframe\">\n",
              "  <thead>\n",
              "    <tr style=\"text-align: right;\">\n",
              "      <th></th>\n",
              "      <th>A2</th>\n",
              "      <th>A3</th>\n",
              "      <th>A4</th>\n",
              "      <th>A6</th>\n",
              "      <th>A7</th>\n",
              "      <th>A8</th>\n",
              "      <th>A9</th>\n",
              "      <th>A10</th>\n",
              "    </tr>\n",
              "  </thead>\n",
              "  <tbody>\n",
              "    <tr>\n",
              "      <th>0</th>\n",
              "      <td>22</td>\n",
              "      <td>40</td>\n",
              "      <td>44</td>\n",
              "      <td>5</td>\n",
              "      <td>69</td>\n",
              "      <td>61</td>\n",
              "      <td>64</td>\n",
              "      <td>47</td>\n",
              "    </tr>\n",
              "    <tr>\n",
              "      <th>1</th>\n",
              "      <td>25</td>\n",
              "      <td>32</td>\n",
              "      <td>33</td>\n",
              "      <td>5</td>\n",
              "      <td>77</td>\n",
              "      <td>66</td>\n",
              "      <td>57</td>\n",
              "      <td>50</td>\n",
              "    </tr>\n",
              "    <tr>\n",
              "      <th>2</th>\n",
              "      <td>26</td>\n",
              "      <td>46</td>\n",
              "      <td>51</td>\n",
              "      <td>6</td>\n",
              "      <td>108</td>\n",
              "      <td>88</td>\n",
              "      <td>76</td>\n",
              "      <td>56</td>\n",
              "    </tr>\n",
              "    <tr>\n",
              "      <th>3</th>\n",
              "      <td>27</td>\n",
              "      <td>40</td>\n",
              "      <td>47</td>\n",
              "      <td>5</td>\n",
              "      <td>103</td>\n",
              "      <td>71</td>\n",
              "      <td>65</td>\n",
              "      <td>52</td>\n",
              "    </tr>\n",
              "    <tr>\n",
              "      <th>4</th>\n",
              "      <td>26</td>\n",
              "      <td>44</td>\n",
              "      <td>50</td>\n",
              "      <td>6</td>\n",
              "      <td>94</td>\n",
              "      <td>63</td>\n",
              "      <td>74</td>\n",
              "      <td>56</td>\n",
              "    </tr>\n",
              "  </tbody>\n",
              "</table>\n",
              "</div>"
            ],
            "text/plain": [
              "   A2  A3  A4  A6   A7  A8  A9  A10\n",
              "0  22  40  44   5   69  61  64   47\n",
              "1  25  32  33   5   77  66  57   50\n",
              "2  26  46  51   6  108  88  76   56\n",
              "3  27  40  47   5  103  71  65   52\n",
              "4  26  44  50   6   94  63  74   56"
            ]
          },
          "execution_count": 133,
          "metadata": {},
          "output_type": "execute_result"
        }
      ],
      "source": [
        "df.head()"
      ]
    },
    {
      "cell_type": "code",
      "execution_count": 134,
      "metadata": {
        "id": "aymPulTpXQvp"
      },
      "outputs": [],
      "source": [
        "from river import cluster\n",
        "from river import stream\n",
        "from river import tree\n",
        "from river import evaluate\n",
        "from river import metrics\n",
        "\n",
        "streamkmeans = cluster.STREAMKMeans(n_clusters=4, halflife=0.5, sigma=1.5, seed=0)"
      ]
    },
    {
      "cell_type": "code",
      "execution_count": 135,
      "metadata": {
        "id": "xfVMc3GAxo2-"
      },
      "outputs": [],
      "source": [
        "dt_scaler = StandardScaler();\n",
        "scaled_features = dt_scaler.fit_transform(df.values)\n",
        "scaled_features_df = pd.DataFrame(scaled_features, index=df.index, columns=df.columns)"
      ]
    },
    {
      "cell_type": "code",
      "execution_count": 136,
      "metadata": {
        "id": "01A-UuUnv5ED"
      },
      "outputs": [],
      "source": [
        "for x in scaled_features_df.iterrows():\n",
        "  data = {}\n",
        "  for y in range(x[1].size):\n",
        "    data[y] = x[1][y]\n",
        "  streamkmeans = streamkmeans.learn_one(data)"
      ]
    },
    {
      "cell_type": "code",
      "execution_count": 137,
      "metadata": {
        "colab": {
          "base_uri": "https://localhost:8080/"
        },
        "id": "jVRIaOU_xXUd",
        "outputId": "11e2b4eb-eb5b-427c-9f12-3d94acc9cd2e"
      },
      "outputs": [
        {
          "data": {
            "text/plain": [
              "{0: defaultdict(functools.partial(<bound method Random.gauss of <random.Random object at 0x0000021A7FDC26F0>>, 0, 1.5),\n",
              "             {0: 0.7322735843427552,\n",
              "              1: 1.3372265031263773,\n",
              "              2: 1.5548500935186236,\n",
              "              3: 0.6397382437992175,\n",
              "              4: 0.6398957941588337,\n",
              "              5: 1.7243626400475878,\n",
              "              6: 1.1941929575033665,\n",
              "              7: 0.798335314517215}),\n",
              " 1: defaultdict(functools.partial(<bound method Random.gauss of <random.Random object at 0x0000021A7FDC26F0>>, 0, 1.5),\n",
              "             {0: -1.1536842569002363,\n",
              "              1: -1.1847968339714865,\n",
              "              2: -1.051713317928328,\n",
              "              3: -1.5068533097238896,\n",
              "              4: -1.3290396725203224,\n",
              "              5: -0.7831962909716854,\n",
              "              6: -1.2804612696439,\n",
              "              7: -1.4716234767172405}),\n",
              " 2: defaultdict(functools.partial(<bound method Random.gauss of <random.Random object at 0x0000021A7FDC26F0>>, 0, 1.5),\n",
              "             {0: 1.775977661209389,\n",
              "              1: -0.8736655015350803,\n",
              "              2: 0.4861590400336772,\n",
              "              3: -1.1443181964314832,\n",
              "              4: -0.5142787330597354,\n",
              "              5: 1.1939465923528476,\n",
              "              6: 0.7792301184711989,\n",
              "              7: -0.4230957250462455}),\n",
              " 3: defaultdict(functools.partial(<bound method Random.gauss of <random.Random object at 0x0000021A7FDC26F0>>, 0, 1.5),\n",
              "             {0: -0.21059907994502897,\n",
              "              1: -0.034049254008496635,\n",
              "              2: -0.8649138260574829,\n",
              "              3: 0.26521609918467404,\n",
              "              4: 1.4190534200153455,\n",
              "              5: -0.9086258136258338,\n",
              "              6: -1.5966276212623258,\n",
              "              7: 0.20714593165441883})}"
            ]
          },
          "execution_count": 137,
          "metadata": {},
          "output_type": "execute_result"
        }
      ],
      "source": [
        "streamkmeans.centers"
      ]
    },
    {
      "cell_type": "code",
      "execution_count": 138,
      "metadata": {
        "id": "OSg2hdDEyKCd"
      },
      "outputs": [],
      "source": [
        "classes = []\n",
        "for x in scaled_features_df.iterrows():\n",
        "  data = {}\n",
        "  for y in range(x[1].size):\n",
        "    data[y] = x[1][y]\n",
        "\n",
        "  classes.append(streamkmeans.predict_one(data))\n",
        "df['class'] = classes"
      ]
    },
    {
      "cell_type": "code",
      "execution_count": 139,
      "metadata": {
        "id": "wB7CBz-7AvCh"
      },
      "outputs": [],
      "source": [
        "model = tree.HoeffdingAdaptiveTreeClassifier(\n",
        "  grace_period=100,\n",
        "  split_confidence=1e-5,\n",
        "  leaf_prediction='nb',\n",
        "  nb_threshold=10,\n",
        "  seed=0\n",
        ")"
      ]
    },
    {
      "cell_type": "code",
      "execution_count": 140,
      "metadata": {
        "id": "WMVYtTOsB_0l"
      },
      "outputs": [],
      "source": [
        "train_datas = []\n",
        "for x in list(df.iterrows()):\n",
        "  data = {}\n",
        "  for y in range(x[1].size-1):\n",
        "    data[y] = x[1][y]\n",
        "  model.learn_one(data, x[1][-1])"
      ]
    },
    {
      "cell_type": "code",
      "execution_count": 149,
      "metadata": {
        "colab": {
          "base_uri": "https://localhost:8080/"
        },
        "id": "Eq91Bl-NSLGe",
        "outputId": "bb4bcf45-a254-41ed-9868-e81306aca301"
      },
      "outputs": [
        {
          "data": {
            "text/plain": [
              "['model2.h5']"
            ]
          },
          "execution_count": 149,
          "metadata": {},
          "output_type": "execute_result"
        }
      ],
      "source": [
        "joblib.dump(model, 'model2.h5')"
      ]
    },
    {
      "cell_type": "code",
      "execution_count": 142,
      "metadata": {},
      "outputs": [],
      "source": [
        "df['A2/A10'] = (df['A2']/df['A10'])*100\n",
        "df['A3/A9'] = (df['A3']/df['A9'])*100"
      ]
    },
    {
      "cell_type": "code",
      "execution_count": 143,
      "metadata": {
        "colab": {
          "base_uri": "https://localhost:8080/"
        },
        "id": "4TnCj3ZiV-NY",
        "outputId": "672b622e-4087-4b9d-bc34-aeb0e1b700eb"
      },
      "outputs": [
        {
          "name": "stdout",
          "output_type": "stream",
          "text": [
            "[40.704984954921095, 34.15399733253759, 52.80479447413516, 30.49181347833899]\n",
            "[71.67469884222716, 45.19751302001099, 62.738253087889824, 62.91270029124603]\n"
          ]
        }
      ],
      "source": [
        "collect_coin_ratio = list(df.groupby(['class']).mean()['A2/A10'])\n",
        "enemy_killed_retio = list(df.groupby(['class']).mean()['A3/A9'])\n",
        "print(collect_coin_ratio)\n",
        "print(enemy_killed_retio)\n"
      ]
    },
    {
      "cell_type": "code",
      "execution_count": 144,
      "metadata": {
        "id": "qGDuFM8VcWJ0"
      },
      "outputs": [],
      "source": [
        "sum_df = pd.DataFrame()\n",
        "# sum_df['A0'] = list(df.groupby(['class']).mean()['A0'])\n",
        "# sum_df['A1'] = list(df.groupby(['class']).mean()['A1'])\n",
        "sum_df['A2'] = list(df.groupby(['class']).mean()['A2'])\n",
        "sum_df['A3'] = list(df.groupby(['class']).mean()['A3'])\n",
        "sum_df['A4'] = list(df.groupby(['class']).mean()['A4'])\n",
        "# sum_df['A5'] = list(df.groupby(['class']).mean()['A5'])\n",
        "sum_df['A6'] = list(df.groupby(['class']).mean()['A6'])\n",
        "sum_df['A7'] = list(df.groupby(['class']).mean()['A7'])\n",
        "sum_df['A8'] = list(df.groupby(['class']).mean()['A8'])\n",
        "sum_df['A9'] = list(df.groupby(['class']).mean()['A9'])\n",
        "sum_df['A10'] = list(df.groupby(['class']).mean()['A10'])\n"
      ]
    },
    {
      "cell_type": "code",
      "execution_count": 145,
      "metadata": {
        "colab": {
          "base_uri": "https://localhost:8080/",
          "height": 173
        },
        "id": "V-7W2WSodRTz",
        "outputId": "2d64db2e-df05-464a-a35e-81f2b1ad2bee"
      },
      "outputs": [
        {
          "data": {
            "text/html": [
              "<div>\n",
              "<style scoped>\n",
              "    .dataframe tbody tr th:only-of-type {\n",
              "        vertical-align: middle;\n",
              "    }\n",
              "\n",
              "    .dataframe tbody tr th {\n",
              "        vertical-align: top;\n",
              "    }\n",
              "\n",
              "    .dataframe thead th {\n",
              "        text-align: right;\n",
              "    }\n",
              "</style>\n",
              "<table border=\"1\" class=\"dataframe\">\n",
              "  <thead>\n",
              "    <tr style=\"text-align: right;\">\n",
              "      <th></th>\n",
              "      <th>A2</th>\n",
              "      <th>A3</th>\n",
              "      <th>A4</th>\n",
              "      <th>A6</th>\n",
              "      <th>A7</th>\n",
              "      <th>A8</th>\n",
              "      <th>A9</th>\n",
              "      <th>A10</th>\n",
              "    </tr>\n",
              "  </thead>\n",
              "  <tbody>\n",
              "    <tr>\n",
              "      <th>0</th>\n",
              "      <td>19.896907</td>\n",
              "      <td>72.814433</td>\n",
              "      <td>89.783505</td>\n",
              "      <td>5.494845</td>\n",
              "      <td>105.989691</td>\n",
              "      <td>56.319588</td>\n",
              "      <td>100.082474</td>\n",
              "      <td>47.371134</td>\n",
              "    </tr>\n",
              "    <tr>\n",
              "      <th>1</th>\n",
              "      <td>5.471910</td>\n",
              "      <td>11.797753</td>\n",
              "      <td>19.269663</td>\n",
              "      <td>1.853933</td>\n",
              "      <td>22.494382</td>\n",
              "      <td>11.426966</td>\n",
              "      <td>21.000000</td>\n",
              "      <td>14.730337</td>\n",
              "    </tr>\n",
              "    <tr>\n",
              "      <th>2</th>\n",
              "      <td>20.285714</td>\n",
              "      <td>31.535714</td>\n",
              "      <td>44.678571</td>\n",
              "      <td>3.571429</td>\n",
              "      <td>53.928571</td>\n",
              "      <td>43.250000</td>\n",
              "      <td>49.178571</td>\n",
              "      <td>38.142857</td>\n",
              "    </tr>\n",
              "    <tr>\n",
              "      <th>3</th>\n",
              "      <td>9.152174</td>\n",
              "      <td>38.173913</td>\n",
              "      <td>49.717391</td>\n",
              "      <td>4.043478</td>\n",
              "      <td>85.456522</td>\n",
              "      <td>17.478261</td>\n",
              "      <td>58.282609</td>\n",
              "      <td>29.347826</td>\n",
              "    </tr>\n",
              "  </tbody>\n",
              "</table>\n",
              "</div>"
            ],
            "text/plain": [
              "          A2         A3         A4        A6          A7         A8  \\\n",
              "0  19.896907  72.814433  89.783505  5.494845  105.989691  56.319588   \n",
              "1   5.471910  11.797753  19.269663  1.853933   22.494382  11.426966   \n",
              "2  20.285714  31.535714  44.678571  3.571429   53.928571  43.250000   \n",
              "3   9.152174  38.173913  49.717391  4.043478   85.456522  17.478261   \n",
              "\n",
              "           A9        A10  \n",
              "0  100.082474  47.371134  \n",
              "1   21.000000  14.730337  \n",
              "2   49.178571  38.142857  \n",
              "3   58.282609  29.347826  "
            ]
          },
          "execution_count": 145,
          "metadata": {},
          "output_type": "execute_result"
        }
      ],
      "source": [
        "sum_df"
      ]
    },
    {
      "cell_type": "code",
      "execution_count": 148,
      "metadata": {
        "colab": {
          "base_uri": "https://localhost:8080/"
        },
        "id": "1R_4jEvwYY7p",
        "outputId": "785402fa-796b-40e1-d449-252f68dfe5cc"
      },
      "outputs": [
        {
          "name": "stdout",
          "output_type": "stream",
          "text": [
            "[2, 0, 1, 3]\n",
            "{2: 'Hardcore Achiever', 0: 'Hardcore Killer', 1: 'Casual Achiever', 3: 'Casual Killer'}\n"
          ]
        }
      ],
      "source": [
        "labels = []\n",
        "num_labels = len(collect_coin_ratio)\n",
        "for i in range(num_labels):\n",
        "    if i % 2 == 0:\n",
        "        sorted_index = np.argsort(collect_coin_ratio)\n",
        "    else:\n",
        "        sorted_index = np.argsort(enemy_killed_retio)\n",
        "\n",
        "    sorted_index = list(sorted_index)\n",
        "    sorted_index.reverse()\n",
        "    for max_index in sorted_index:\n",
        "        if max_index not in labels:\n",
        "            labels.append(max_index)\n",
        "            break\n",
        "\n",
        "print(labels)\n",
        "\n",
        "LABELS = {\n",
        "    labels[0]: 'Hardcore Achiever',\n",
        "    labels[1]: 'Hardcore Killer',\n",
        "    labels[2]: 'Casual Achiever',\n",
        "    labels[3]: 'Casual Killer',\n",
        "}\n",
        "print(LABELS)"
      ]
    }
  ],
  "metadata": {
    "colab": {
      "collapsed_sections": [],
      "name": "Untitled0.ipynb",
      "provenance": []
    },
    "kernelspec": {
      "display_name": "Python 3",
      "name": "python3"
    },
    "language_info": {
      "codemirror_mode": {
        "name": "ipython",
        "version": 3
      },
      "file_extension": ".py",
      "mimetype": "text/x-python",
      "name": "python",
      "nbconvert_exporter": "python",
      "pygments_lexer": "ipython3",
      "version": "3.9.2"
    }
  },
  "nbformat": 4,
  "nbformat_minor": 0
}
